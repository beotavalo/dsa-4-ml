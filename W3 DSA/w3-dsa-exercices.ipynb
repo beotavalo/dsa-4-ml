{
 "cells": [
  {
   "cell_type": "markdown",
   "metadata": {},
   "source": [
    "## DSA Tutorial\n",
    "\n",
    "Basic example:\n",
    "\n",
    "Look for the minimum in an array."
   ]
  },
  {
   "cell_type": "markdown",
   "metadata": {},
   "source": [
    "Explanation in the Context of Data Structures and Algorithms (DSA)\n",
    "\n",
    "**Data Structure:** The code uses a list (array) to store a collection of integers.\n",
    "\n",
    "**Algorithm:** The algorithm used here is a linear search to find the minimum value in the array.\n",
    "\n",
    "**Time Complexity:** O(n), where n is the number of elements in the array. This is because the algorithm iterates through each element exactly once.\n",
    "\n",
    "**Space Complexity:** O(1), as it uses a constant amount of extra space regardless of the input size.\n",
    "\n",
    "This is a fundamental example of how to traverse an array and perform a comparison operation to find a specific value (in this case, the minimum value)."
   ]
  },
  {
   "cell_type": "code",
   "execution_count": 4,
   "metadata": {},
   "outputs": [
    {
     "name": "stdout",
     "output_type": "stream",
     "text": [
      "7\n",
      "7\n",
      "7\n",
      "7\n",
      "4\n",
      "The minimum in this array is 4\n"
     ]
    }
   ],
   "source": [
    "my_array = [7, 12, 9, 4, 11]\n",
    "minVal = my_array[0]\n",
    "for i in my_array:\n",
    "    print(minVal)    \n",
    "    if i < minVal:\n",
    "        minVal = i\n",
    "        \n",
    "print(f'The minimum in this array is {minVal}')"
   ]
  },
  {
   "cell_type": "markdown",
   "metadata": {},
   "source": [
    "**Fibonacci Numbers**\n",
    "\n",
    "The Fibonacci numbers are very useful for introducing algorithms, so before we continue, here is a short introduction to Fibonacci numbers.\n",
    "\n",
    "The Fibonacci numbers are named after a 13th century Italian mathematician known as Fibonacci.\n",
    "\n",
    "The two first Fibonacci numbers are 0 and 1, and the next Fibonacci number is always the sum of the two previous numbers, so we get 0, 1, 1, 2, 3, 5, 8, 13, 21, ..."
   ]
  },
  {
   "cell_type": "code",
   "execution_count": 5,
   "metadata": {},
   "outputs": [
    {
     "name": "stdout",
     "output_type": "stream",
     "text": [
      "[0, 1, 1, 2, 3, 5, 8, 13, 21, 34]\n"
     ]
    }
   ],
   "source": [
    "def generate_Fibb(n):\n",
    "    fibb = [0, 1]\n",
    "    for i in range(2, n):\n",
    "        fibb.append(fibb[i-1] + fibb[i-2])\n",
    "    return fibb\n",
    "\n",
    "print(generate_Fibb(10))"
   ]
  },
  {
   "cell_type": "markdown",
   "metadata": {},
   "source": [
    "## References\n",
    "[W3 -DSA Tutorial](https://www.w3schools.com/dsa/index.php)\n",
    "\n",
    "[Data Structures Tutorial](https://www.geeksforgeeks.org/data-structures/)\n",
    "\n",
    "[DSA Tutorial - Learn Data Structures and Algorithms](https://www.geeksforgeeks.org/dsa-tutorial-learn-data-structures-and-algorithms/)"
   ]
  }
 ],
 "metadata": {
  "kernelspec": {
   "display_name": "dsa",
   "language": "python",
   "name": "python3"
  },
  "language_info": {
   "codemirror_mode": {
    "name": "ipython",
    "version": 3
   },
   "file_extension": ".py",
   "mimetype": "text/x-python",
   "name": "python",
   "nbconvert_exporter": "python",
   "pygments_lexer": "ipython3",
   "version": "3.12.8"
  }
 },
 "nbformat": 4,
 "nbformat_minor": 2
}
